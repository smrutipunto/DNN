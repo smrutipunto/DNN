{
  "nbformat": 4,
  "nbformat_minor": 0,
  "metadata": {
    "colab": {
      "provenance": [],
      "authorship_tag": "ABX9TyM0Wx3MrAFBs9+aQUHhME8l",
      "include_colab_link": true
    },
    "kernelspec": {
      "name": "python3",
      "display_name": "Python 3"
    },
    "language_info": {
      "name": "python"
    }
  },
  "cells": [
    {
      "cell_type": "markdown",
      "metadata": {
        "id": "view-in-github",
        "colab_type": "text"
      },
      "source": [
        "<a href=\"https://colab.research.google.com/github/smrutipunto/DNN/blob/main/Practical_6_DNN.ipynb\" target=\"_parent\"><img src=\"https://colab.research.google.com/assets/colab-badge.svg\" alt=\"Open In Colab\"/></a>"
      ]
    },
    {
      "cell_type": "code",
      "execution_count": null,
      "metadata": {
        "id": "gVwxtVNaJtF1"
      },
      "outputs": [],
      "source": [
        "# Practical 6-Perform the encoding and decoding of handwritten digits from MNIST dataset using autoencoder and decoder\n",
        "from IPython import get_ipython\n",
        "from IPython.display import display\n",
        "import tensorflow as tf\n",
        "from tensorflow import keras\n",
        "from keras import layers, models, Model, datasets, losses\n",
        "!pip install opencv-python\n",
        "from random import randint\n",
        "\n",
        "\n",
        "import cv2\n",
        "from keras.layers import Dense, Reshape # Import Reshape\n",
        "import matplotlib.pyplot as plt\n",
        "\n",
        "\n",
        "(x_tr, y_tr), (x_test, y_test) = keras.datasets.mnist.load_data()\n",
        "y_tr[0]\n",
        "x_tr[0]\n",
        "plt.title(y_tr[0])\n",
        "plt.imshow(x_tr[0])\n",
        "x_tr.shape\n",
        "imgindex = 0\n",
        "plt.figure(figsize=(10,10))\n",
        "for i in range(0, 32):\n",
        "    imgindex += 1\n",
        "    plt.subplot(8, 4, imgindex)\n",
        "    plt.imshow(x_tr[i]/225)\n",
        "    plt.xlabel(y_tr[i])\n"
      ]
    },
    {
      "cell_type": "code",
      "source": [
        "\n",
        "x_tr.shape\n",
        "input_layer = keras.layers.Input(shape=[x_tr.shape[1], x_tr.shape[2]])\n",
        "flattened_layer = keras.layers.Flatten()\n",
        "flattened_layer = flattened_layer(input_layer)\n",
        "hidden_layer = keras.layers.Dense(100, activation=\"relu\")\n",
        "hidden_layer = hidden_layer(flattened_layer)\n",
        "latent_layer = keras.layers.Dense(50, activation=\"relu\")\n",
        "latent_layer = latent_layer(hidden_layer)\n",
        "encoder_model = Model(inputs=input_layer, outputs=latent_layer)\n",
        "\n",
        "\n",
        "encoder_model.summary()\n",
        "\n",
        "\n",
        "# [markdown]\n",
        "# Decoder Model\n",
        "decoder_input_layer=keras.layers.Input(shape=encoder_model.output.shape)\n",
        "encoder_model.output.shape\n",
        "decoder_input_layer.shape\n",
        "decoder_hidden_layer = keras.layers.Dense(100, activation=\"relu\")\n",
        "decoder_hidden_layer = decoder_hidden_layer(decoder_input_layer)\n",
        "encoder_model.layers\n",
        "encoder_model.layers[1].output.shape[1]\n",
        "\n",
        "\n",
        "decoder_flat_layer = keras.layers.Dense(encoder_model.layers[1].output.shape[1], activation=\"relu\")\n",
        "decoder_flat_layer = decoder_flat_layer(decoder_hidden_layer)\n",
        "\n",
        "\n",
        "decoder_flat_layer.shape\n",
        "x_tr.shape\n",
        "\n",
        "\n",
        "decoder_output_layer = keras.layers.Reshape(x_tr.shape[1: ])\n",
        "decoder_output_layer = decoder_output_layer(decoder_flat_layer)\n",
        "decoder_output_layer.shape\n",
        "\n",
        "\n",
        "decoder_model = Model(inputs=decoder_input_layer, outputs=decoder_output_layer)\n",
        "decoder_model.summary()\n",
        "encoder_model.input\n",
        "encoder_model.output\n",
        "encoder_model.output.shape\n",
        "import numpy as np\n",
        "autoencoder= Model(inputs=input_layer, outputs=decoder_model(encoder_output_reshaped)) # Use reshaped output\n",
        "autoencoder.compile(optimizer=\"adam\", loss=losses.MeanSquaredError())\n",
        "keras_model=autoencoder.fit(x_tr, x_tr, epochs=50, batch_size=64)\n"
      ],
      "metadata": {
        "id": "n9XyIDpTKHgd"
      },
      "execution_count": null,
      "outputs": []
    },
    {
      "cell_type": "code",
      "source": [
        "autoencoder.predict(np.expand_dims(x_tr[0],0))\n",
        "fig, axs = plt.subplots(5,2,figsize=(10,15))\n",
        "for i in range(5):\n",
        "\n",
        "    sample1=x_tr[randint(0,x_tr.shape[0])]\n",
        "      plt.subplots_adjust(wspace=0.2,hspace=0.9)\n",
        "    axs[i][0].set_xlabel('orignal image')\n",
        "    axs[i][0].imshow(sample1)\n",
        "    axs[i][1].set_xlabel('encoded decoded image')\n",
        "    axs[i][1].imshow(autoencoder.predict(np.expand_dims(simple1,0))[0])"
      ],
      "metadata": {
        "id": "hFVC1ps9KK3h"
      },
      "execution_count": null,
      "outputs": []
    }
  ]
}