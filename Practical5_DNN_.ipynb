{
  "nbformat": 4,
  "nbformat_minor": 0,
  "metadata": {
    "colab": {
      "provenance": [],
      "authorship_tag": "ABX9TyOrtdZ6MU6UriT5EBsnLlWl",
      "include_colab_link": true
    },
    "kernelspec": {
      "name": "python3",
      "display_name": "Python 3"
    },
    "language_info": {
      "name": "python"
    }
  },
  "cells": [
    {
      "cell_type": "markdown",
      "metadata": {
        "id": "view-in-github",
        "colab_type": "text"
      },
      "source": [
        "<a href=\"https://colab.research.google.com/github/smrutipunto/DNN/blob/main/Practical5_DNN_.ipynb\" target=\"_parent\"><img src=\"https://colab.research.google.com/assets/colab-badge.svg\" alt=\"Open In Colab\"/></a>"
      ]
    },
    {
      "cell_type": "code",
      "execution_count": null,
      "metadata": {
        "id": "zL2WlKpyHufb"
      },
      "outputs": [],
      "source": [
        "#Practical 5- Perform a time series prediction using LSTM\n",
        "import numpy as np\n",
        "import pandas as pd\n",
        "import matplotlib.pyplot as plt\n",
        "\n",
        "\n",
        "!pip install openpyxl\n",
        "import pandas as pd\n",
        "\n",
        "\n",
        "# Read the CSV\n",
        "df = pd.read_csv(\"AirPassengers.csv\", parse_dates=['date'])\n",
        "\n",
        "\n",
        "# Create new columns\n",
        "df['Date'] = df['date'].dt.date\n",
        "df['Month'] = df['date'].dt.strftime('%b')   # 'Jan'\n",
        "df['Year'] = df['date'].dt.year              # 1949\n",
        "df['WeekDay'] = df['date'].dt.strftime('%A') # 'Saturday'\n",
        "df['#Passengers'] = df['value']\n",
        "\n",
        "\n",
        "# Select and reorder desired columns\n",
        "df_final = df[['Date', 'Month', 'Year', 'WeekDay', '#Passengers']]\n",
        "\n",
        "\n",
        "# Display result\n",
        "print(df_final)\n"
      ]
    },
    {
      "cell_type": "code",
      "source": [
        "ts = pd.Series(df[\"#Passengers\"].values, index=df[\"Date\"])\n",
        "plt.plot(ts)"
      ],
      "metadata": {
        "id": "NCeukJ1yJJMJ"
      },
      "execution_count": null,
      "outputs": []
    },
    {
      "cell_type": "code",
      "source": [
        "sklearn.preprocessing import MinMaxScaler\n",
        "dataset = MinMaxScaler().fit_transform(df.loc[:, [\"#Passengers\"]])\n",
        "train_size = int(len(dataset) * 0.7)\n",
        "test_size = len(dataset) - train_size\n",
        "from sklearn.model_selection import train_test_split\n",
        "tr, test = train_test_split(dataset, test_size=0.3)\n",
        "train = dataset[0: train_size, :]\n",
        "test = dataset[train_size: len(dataset), :]\n",
        "\n",
        "\n",
        "def create_dataset(dataset, prev_steps=15):\n",
        "    dataX, dataY = [], []\n",
        "\n",
        "    for i in range(len(dataset) - prev_steps - 1):\n",
        "        a = dataset[i:(i + prev_steps), 0]\n",
        "\n",
        "        b = dataset[i + prev_steps, 0]\n",
        "\n",
        "        print(\"x:\", a)\n",
        "        print(\"y:\", b)\n",
        "        dataX.append(a)\n",
        "        dataY.append(b)\n",
        "    return np.array(dataX), np.array(dataY)\n",
        "\n",
        "create_dataset(dataset, 15)\n"
      ],
      "metadata": {
        "id": "s4LNKTTHJOGP"
      },
      "execution_count": null,
      "outputs": []
    },
    {
      "cell_type": "code",
      "source": [
        "print(x_train.shape)\n",
        "print(y_train.shape)\n",
        "print(x_test.shape)\n",
        "print(y_test.shape)"
      ],
      "metadata": {
        "id": "8Sz85JjjJQki"
      },
      "execution_count": null,
      "outputs": []
    },
    {
      "cell_type": "code",
      "source": [
        "x_train = np.reshape(x_train, (x_train.shape[0], 1, x_train.shape[1]))\n",
        "x_test = np.reshape(x_test, (x_test.shape[0], 1, x_test.shape[1]))\n",
        "\n",
        "from tensorflow import keras\n",
        "from keras.layers import Dense, Dropout, LSTM\n",
        "from sklearn.metrics import mean_squared_error\n",
        "model = keras.Sequential()\n",
        "model.add(LSTM(20, input_shape=(1, 15)))\n",
        "model.add(Dense(1))\n",
        "model.compile(loss=\"mean_squared_error\", optimizer=\"adam\")\n",
        "model.fit(x_train, y_train, epochs=20, batch_size=1)\n"
      ],
      "metadata": {
        "id": "I7z8G8R3JTXo"
      },
      "execution_count": null,
      "outputs": []
    },
    {
      "cell_type": "code",
      "source": [
        "trainPredict = model.predict(x_train)\n",
        "testPredict = model.predict(x_test)\n",
        "\n",
        "from sklearn.metrics import r2_score\n",
        "r2_score(y_train, trainPredict)"
      ],
      "metadata": {
        "id": "uWfb9h2rJWu7"
      },
      "execution_count": null,
      "outputs": []
    },
    {
      "cell_type": "code",
      "source": [
        "r2_score(y_test, testPredict)\n",
        "trainPredictOrig = MinMaxScaler().fit(trainPredict).inverse_transform(trainPredict)\n",
        "\n",
        "trainPredictOrig[0:10]\n",
        "testPredictOrig = MinMaxScaler().fit(testPredict).inverse_transform(testPredict)\n",
        "plt.plot(trainPredictOrig)\n"
      ],
      "metadata": {
        "id": "oEwz8V2lJZRD"
      },
      "execution_count": null,
      "outputs": []
    }
  ]
}